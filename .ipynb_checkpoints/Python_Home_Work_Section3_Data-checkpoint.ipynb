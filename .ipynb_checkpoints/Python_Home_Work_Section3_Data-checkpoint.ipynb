{
 "cells": [
  {
   "cell_type": "code",
   "execution_count": 1,
   "metadata": {},
   "outputs": [],
   "source": [
    "#Data \n",
    "revenue = [14574.49, 7606.46, 8611.41, 9175.41, 8058.65, 8105.44, 11496.28, 9766.09, 10305.32, 14379.96, 10713.97, 15433.50]\n",
    "expenses = [12051.82, 5695.07, 12319.20, 12089.72, 8658.57, 840.20, 3285.73, 5821.12, 6976.93, 16618.61, 10054.37, 3803.96]"
   ]
  },
  {
   "cell_type": "code",
   "execution_count": 70,
   "metadata": {},
   "outputs": [],
   "source": [
    "import numpy as np\n",
    "\n",
    "\n",
    "profit=[]\n",
    "netTaxesProfit = []\n",
    "profitMargin = []\n",
    "\n",
    "for index,item in enumerate(revenue):\n",
    "    rev = revenue[index]\n",
    "    exp = expenses[index]\n",
    "    prof = rev-exp\n",
    "    netTaxPro = prof*.7\n",
    "    profMargin = round((100*netTaxPro/rev),0)\n",
    "\n",
    "    \n",
    "    profit.append(prof)\n",
    "    netTaxesProfit.append(netTaxPro)\n",
    "    profitMargin.append(profMargin)\n",
    "\n",
    "netTaxesArray = np.array(netTaxesProfit)\n",
    "monthMean = netTaxesArray.mean()\n",
    "\n",
    "bestMonth = netTaxesArray.max()\n",
    "worstMonth = netTaxesArray.min()\n",
    "\n",
    "bestMonthRounded = int(round(netTaxesArray.max(),0)/1000)\n",
    "worstMonthRounded = int(round(netTaxesArray.min(),0)/1000)\n",
    "\n",
    "goodMonths = []\n",
    "badMonths = []\n",
    "bestMonths = []\n",
    "worstMonths = []\n",
    "\n",
    "for item in netTaxesArray:\n",
    "    if item>monthMean:\n",
    "        goodMonths.append(True)\n",
    "        badMonths.append(False)\n",
    "    else:\n",
    "        badMonths.append(True)\n",
    "        goodMonths.append(False)\n",
    "    if item == bestMonth:\n",
    "        bestMonths.append(True)\n",
    "    else:\n",
    "         bestMonths.append(False)\n",
    "    if item == worstMonth:\n",
    "        worstMonths.append(True)\n",
    "    else:\n",
    "         worstMonths.append(False)\n",
    "        \n",
    "revenue_1000 = [round(i/1000,2) for i in revenue]\n",
    "expenses_1000 = [round(i/1000,2) for i in expenses]\n",
    "profit_1000 = [round(i/1000,2) for i in profit]\n",
    "netTaxPro_1000 =  [round(i/1000,2) for i in netTaxesProfit]\n",
    "\n",
    "revenue_1000 = [int(i) for i in revenue_1000]\n",
    "expenses_1000 = [int(i) for i in expenses_1000]\n",
    "profit_1000 = [int(i) for i in profit_1000]\n",
    "netTaxPro_1000 = [int(i) for i in netTaxPro_1000]\n",
    "    "
   ]
  },
  {
   "cell_type": "code",
   "execution_count": 72,
   "metadata": {},
   "outputs": [
    {
     "name": "stdout",
     "output_type": "stream",
     "text": [
      "Revenue:\n",
      "[14, 7, 8, 9, 8, 8, 11, 9, 10, 14, 10, 15]\n",
      "Expenses:\n",
      "[12, 5, 12, 12, 8, 0, 3, 5, 6, 16, 10, 3]\n",
      "Profit:\n",
      "[2, 1, -3, -2, 0, 7, 8, 3, 3, -2, 0, 11]\n",
      "Profit Net Tax:\n",
      "[1, 1, -2, -2, 0, 5, 5, 2, 2, -1, 0, 8]\n",
      "Profit Margin\n",
      "[12.0, 18.0, -30.0, -22.0, -5.0, 63.0, 50.0, 28.0, 23.0, -11.0, 4.0, 53.0]\n",
      "Good Months\n",
      "[True, False, False, False, False, True, True, True, True, False, False, True]\n",
      "Bad Months\n",
      "[False, True, True, True, True, False, False, False, False, True, True, False]\n",
      "Best Month\n",
      "8   8140.678   [False, False, False, False, False, False, False, False, False, False, False, True]\n",
      "Worst Month\n",
      "-2   -2595.4530000000004   [False, False, True, False, False, False, False, False, False, False, False, False]\n"
     ]
    }
   ],
   "source": [
    "print(\"Revenue:\")\n",
    "print(revenue_1000)\n",
    "print(\"Expenses:\")\n",
    "print(expenses_1000)\n",
    "print(\"Profit:\")\n",
    "print(profit_1000)\n",
    "print(\"Profit Net Tax:\")\n",
    "print(netTaxPro_1000)\n",
    "print(\"Profit Margin\")\n",
    "print(profitMargin)\n",
    "print(\"Good Months\")\n",
    "print(goodMonths)\n",
    "print(\"Bad Months\")\n",
    "print(badMonths)\n",
    "print(\"Best Month\")\n",
    "print(bestMonthRounded, \" \", bestMonth, \" \", bestMonths)\n",
    "print(\"Worst Month\")\n",
    "print(worstMonthRounded, \" \",worstMonth, \" \", worstMonths)"
   ]
  },
  {
   "cell_type": "code",
   "execution_count": null,
   "metadata": {},
   "outputs": [],
   "source": []
  }
 ],
 "metadata": {
  "kernelspec": {
   "display_name": "Python 3",
   "language": "python",
   "name": "python3"
  },
  "language_info": {
   "codemirror_mode": {
    "name": "ipython",
    "version": 3
   },
   "file_extension": ".py",
   "mimetype": "text/x-python",
   "name": "python",
   "nbconvert_exporter": "python",
   "pygments_lexer": "ipython3",
   "version": "3.8.5"
  }
 },
 "nbformat": 4,
 "nbformat_minor": 1
}
