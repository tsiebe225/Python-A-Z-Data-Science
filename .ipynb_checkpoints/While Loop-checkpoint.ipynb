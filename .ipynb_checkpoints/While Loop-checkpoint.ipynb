{
 "cells": [
  {
   "cell_type": "code",
   "execution_count": 4,
   "metadata": {},
   "outputs": [
    {
     "name": "stdout",
     "output_type": "stream",
     "text": [
      "0\n",
      "1\n",
      "2\n",
      "3\n",
      "4\n",
      "5\n"
     ]
    }
   ],
   "source": [
    "x=0\n",
    "while x<=5:\n",
    "    print(x)\n",
    "    x+=1"
   ]
  },
  {
   "cell_type": "code",
   "execution_count": 18,
   "metadata": {},
   "outputs": [
    {
     "name": "stdout",
     "output_type": "stream",
     "text": [
      "5\n",
      "Hello\n",
      "4\n",
      "Hello\n",
      "3\n",
      "Hello\n",
      "2\n",
      "Hello\n",
      "1\n",
      "Hello\n",
      "0\n",
      "Done\n"
     ]
    }
   ],
   "source": [
    "status= \"Not Done\"\n",
    "x=5\n",
    "while x>0:\n",
    "    print(x)\n",
    "    x-=1\n",
    "    print(\"Hello\")\n",
    "if(x == 0):\n",
    "    print(x)\n",
    "    status = \"Done\"\n",
    "    print(status)"
   ]
  },
  {
   "cell_type": "code",
   "execution_count": null,
   "metadata": {},
   "outputs": [],
   "source": []
  }
 ],
 "metadata": {
  "kernelspec": {
   "display_name": "Python 3",
   "language": "python",
   "name": "python3"
  },
  "language_info": {
   "codemirror_mode": {
    "name": "ipython",
    "version": 3
   },
   "file_extension": ".py",
   "mimetype": "text/x-python",
   "name": "python",
   "nbconvert_exporter": "python",
   "pygments_lexer": "ipython3",
   "version": "3.6.4"
  }
 },
 "nbformat": 4,
 "nbformat_minor": 2
}
