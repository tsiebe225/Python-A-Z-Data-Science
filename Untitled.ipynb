{
 "cells": [
  {
   "cell_type": "code",
   "execution_count": 433,
   "metadata": {},
   "outputs": [
    {
     "name": "stdout",
     "output_type": "stream",
     "text": [
      "49910\n",
      "50090\n",
      "100000\n"
     ]
    }
   ],
   "source": [
    "from numpy import random\n",
    "heads = 0\n",
    "tails = 0\n",
    "threes = 0\n",
    "trials = 100000\n",
    "for i in range(trials):\n",
    "    x = random.randint(1,3)\n",
    "    if x == 1:\n",
    "        heads+=1\n",
    "    elif x ==2:\n",
    "        tails +=1\n",
    "    else:\n",
    "        threes+=1\n",
    "print(heads/trials)\n",
    "print(tails)\n",
    "print(hea)"
   ]
  },
  {
   "cell_type": "code",
   "execution_count": null,
   "metadata": {},
   "outputs": [],
   "source": []
  }
 ],
 "metadata": {
  "kernelspec": {
   "display_name": "Python 3",
   "language": "python",
   "name": "python3"
  },
  "language_info": {
   "codemirror_mode": {
    "name": "ipython",
    "version": 3
   },
   "file_extension": ".py",
   "mimetype": "text/x-python",
   "name": "python",
   "nbconvert_exporter": "python",
   "pygments_lexer": "ipython3",
   "version": "3.6.4"
  }
 },
 "nbformat": 4,
 "nbformat_minor": 2
}
